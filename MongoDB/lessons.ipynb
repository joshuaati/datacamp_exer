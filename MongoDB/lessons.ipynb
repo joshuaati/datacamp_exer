{
 "cells": [
  {
   "cell_type": "code",
   "execution_count": 5,
   "metadata": {},
   "outputs": [],
   "source": [
    "import requests\n",
    "from pymongo import MongoClient"
   ]
  },
  {
   "cell_type": "code",
   "execution_count": 6,
   "metadata": {},
   "outputs": [],
   "source": [
    "# Client connects to \"localhost\" by default\n",
    "client = MongoClient()\n",
    "\n",
    "# Create local \"nobel\" database on the fly\n",
    "db = client[\"nobel\"]\n",
    "\n",
    "for collection_name in [\"prizes\", \"laureates\"]:\n",
    "# collect the data from the API\n",
    "    response = requests.get(\"http://api.nobelprize.org/v1/{}.json\".\\\n",
    "        format(collection_name[:-1] ))\n",
    "\n",
    "    # convert the data to json\n",
    "    documents = response.json()[collection_name]\n",
    "\n",
    "    # Create collections on the fly\n",
    "    db[collection_name].insert_many(documents)\n"
   ]
  },
  {
   "cell_type": "code",
   "execution_count": 7,
   "metadata": {},
   "outputs": [],
   "source": [
    "# client is a dictionary of databases\n",
    "db = client[\"nobel\"]\n",
    "\n",
    "# database is a dictionary of collections\n",
    "prizes_collection = db[\"prizes\"]\n"
   ]
  },
  {
   "cell_type": "code",
   "execution_count": 8,
   "metadata": {},
   "outputs": [],
   "source": [
    "from collections import OrderedDict\n",
    "from itertools import groupby\n",
    "from operator import itemgetter\n",
    "\n",
    "original_categories = set(db.prizes.distinct(\"category\", {\"year\": \"1901\"}))\n",
    "\n",
    "# Save an pipeline to collect original-category prizes\n",
    "pipeline = [\n",
    "    {\"$match\": {\"category\": {\"$in\": list(original_categories)}}},\n",
    "    {\"$project\": {\"year\": 1, \"category\": 1}},\n",
    "    {\"$sort\": OrderedDict([(\"year\", -1)])}\n",
    "]\n",
    "cursor = db.prizes.aggregate(pipeline)\n",
    "for key, group in groupby(cursor, key=itemgetter(\"year\")):\n",
    "    missing = original_categories - {doc[\"category\"] for doc in group}\n",
    "    if missing:\n",
    "        print(\"{year}: {missing}\".format(year=key, missing=\", \".join(sorted(missing))))"
   ]
  },
  {
   "cell_type": "code",
   "execution_count": null,
   "metadata": {},
   "outputs": [],
   "source": []
  }
 ],
 "metadata": {
  "kernelspec": {
   "display_name": "Python 3.9.12 ('base')",
   "language": "python",
   "name": "python3"
  },
  "language_info": {
   "codemirror_mode": {
    "name": "ipython",
    "version": 3
   },
   "file_extension": ".py",
   "mimetype": "text/x-python",
   "name": "python",
   "nbconvert_exporter": "python",
   "pygments_lexer": "ipython3",
   "version": "3.9.12"
  },
  "orig_nbformat": 4,
  "vscode": {
   "interpreter": {
    "hash": "ad2bdc8ecc057115af97d19610ffacc2b4e99fae6737bb82f5d7fb13d2f2c186"
   }
  }
 },
 "nbformat": 4,
 "nbformat_minor": 2
}
